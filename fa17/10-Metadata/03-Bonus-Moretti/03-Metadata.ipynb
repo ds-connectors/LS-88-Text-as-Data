{
 "cells": [
  {
   "cell_type": "markdown",
   "metadata": {},
   "source": [
    "This notebook revisits some of the literary historical trends found by Franco Moretti in his article \"Style, Inc.\" (<i>Critical Inquiry</i>, 36.1 (2009), 134-158). See especially his Figures 1 (p 135) and 18 (p 155).\n",
    "\n",
    "Note that the dataset used in this notebook is not Moretti's bibliograpy of novels, but Hathi Trust's catalog of fiction texts (https://sharc.hathitrust.org/genre)."
   ]
  },
  {
   "cell_type": "markdown",
   "metadata": {},
   "source": [
    "## Metadata\n",
    "<li>Inspecting & Cleaning</li>\n",
    "<li>Trends</li>\n",
    "\n",
    "## Detecting Word Patterns\n",
    "<li>Intro to Regex</li>\n",
    "<li>A Fortunate Formula</li>"
   ]
  },
  {
   "cell_type": "markdown",
   "metadata": {},
   "source": [
    "# Inspecting & Cleaning"
   ]
  },
  {
   "cell_type": "code",
   "execution_count": null,
   "metadata": {
    "collapsed": false
   },
   "outputs": [],
   "source": [
    "%pylab inline\n",
    "from datascience import *"
   ]
  },
  {
   "cell_type": "code",
   "execution_count": null,
   "metadata": {
    "collapsed": false
   },
   "outputs": [],
   "source": [
    "metadata_tb = Table.read_table(\"fiction_metadata.csv\")"
   ]
  },
  {
   "cell_type": "code",
   "execution_count": null,
   "metadata": {
    "collapsed": false
   },
   "outputs": [],
   "source": [
    "metadata_tb"
   ]
  },
  {
   "cell_type": "code",
   "execution_count": null,
   "metadata": {
    "collapsed": false
   },
   "outputs": [],
   "source": [
    "# Remove rows that contain duplicate titles\n",
    "# Sets are specially designed to handle unique elements and check for duplicates efficiently\n",
    "titles = set()\n",
    "indexes = []\n",
    "for i in range(len(metadata_tb['title'])):\n",
    "    if metadata_tb['title'][i] not in titles:\n",
    "        indexes.append(i)\n",
    "        titles.add(metadata_tb['title'][i])\n",
    "singlevol_tb = metadata_tb.take(indexes)"
   ]
  },
  {
   "cell_type": "code",
   "execution_count": null,
   "metadata": {
    "collapsed": false
   },
   "outputs": [],
   "source": [
    "# Inspect annual distribution of books\n",
    "singlevol_tb.hist('date')"
   ]
  },
  {
   "cell_type": "code",
   "execution_count": null,
   "metadata": {
    "collapsed": false
   },
   "outputs": [],
   "source": [
    "# Limit to Moretti's date range\n",
    "\n",
    "date_mask = (singlevol_tb['date'] > 1750) & (singlevol_tb['date'] < 1850)\n",
    "singlevol_tb = singlevol_tb.where(date_mask)"
   ]
  },
  {
   "cell_type": "code",
   "execution_count": null,
   "metadata": {
    "collapsed": true
   },
   "outputs": [],
   "source": [
    "# EX. Plot the distribution of page counts ('totalpages').\n",
    "#     Should we remove any entries from our metadata? Why or why not?\n",
    "\n",
    "# EX. Plot the distribution of confidence values that given texts are fiction('prob80precise').\n",
    "#     Should we remove any entries from our metadata? Why or why not?"
   ]
  },
  {
   "cell_type": "markdown",
   "metadata": {},
   "source": [
    "# Trends"
   ]
  },
  {
   "cell_type": "code",
   "execution_count": null,
   "metadata": {
    "collapsed": true
   },
   "outputs": [],
   "source": [
    "import numpy as np"
   ]
  },
  {
   "cell_type": "code",
   "execution_count": null,
   "metadata": {
    "collapsed": false
   },
   "outputs": [],
   "source": [
    "singlevol_tb = singlevol_tb.select(['title', 'date'])"
   ]
  },
  {
   "cell_type": "code",
   "execution_count": null,
   "metadata": {
    "collapsed": true
   },
   "outputs": [],
   "source": [
    "# Determine length of each title\n",
    "title_tokens = [x.split() for x in singlevol_tb['title']]\n",
    "title_length = [len(x) for x in title_tokens]\n",
    "singlevol_tb['title_len'] = title_length"
   ]
  },
  {
   "cell_type": "code",
   "execution_count": null,
   "metadata": {
    "collapsed": false
   },
   "outputs": [],
   "source": [
    "singlevol_tb"
   ]
  },
  {
   "cell_type": "code",
   "execution_count": null,
   "metadata": {
    "collapsed": false
   },
   "outputs": [],
   "source": [
    "# Determine average title length per year\n",
    "mean_table = singlevol_tb.group('date', collect=np.mean)"
   ]
  },
  {
   "cell_type": "code",
   "execution_count": null,
   "metadata": {
    "collapsed": false
   },
   "outputs": [],
   "source": [
    "mean_table"
   ]
  },
  {
   "cell_type": "code",
   "execution_count": null,
   "metadata": {
    "collapsed": false
   },
   "outputs": [],
   "source": [
    "mean_table.scatter('date','title_len mean')"
   ]
  },
  {
   "cell_type": "code",
   "execution_count": null,
   "metadata": {
    "collapsed": false
   },
   "outputs": [],
   "source": [
    "# Does the pattern hold when we treat individual titles as data points?\n",
    "singlevol_tb.scatter('date', 'title_len')"
   ]
  },
  {
   "cell_type": "code",
   "execution_count": null,
   "metadata": {
    "collapsed": false
   },
   "outputs": [],
   "source": [
    "singlevol_tb.scatter('date', 'title_len', fit_line=True)"
   ]
  },
  {
   "cell_type": "code",
   "execution_count": null,
   "metadata": {
    "collapsed": true
   },
   "outputs": [],
   "source": [
    "# EX. Moretti also produces graphs for the median and standard deviation\n",
    "#     of title lengths by year. Create graphs that represent these data."
   ]
  },
  {
   "cell_type": "markdown",
   "metadata": {},
   "source": [
    "# Intro to Regex (Regular Expressions)"
   ]
  },
  {
   "cell_type": "code",
   "execution_count": null,
   "metadata": {
    "collapsed": true
   },
   "outputs": [],
   "source": [
    "import re"
   ]
  },
  {
   "cell_type": "code",
   "execution_count": null,
   "metadata": {
    "collapsed": false
   },
   "outputs": [],
   "source": [
    "# Example from previous lesson\n",
    "for line in open('lecture notes 09-22-15.txt'):\n",
    "    for word in line.split():\n",
    "        if word.endswith('ing'):\n",
    "            print(word)"
   ]
  },
  {
   "cell_type": "code",
   "execution_count": null,
   "metadata": {
    "collapsed": false
   },
   "outputs": [],
   "source": [
    "# Reproduced using regex\n",
    "for line in open('lecture notes 09-22-15.txt'):\n",
    "    for word in line.split():\n",
    "        if re.search(r'ing$', word): # only change from above\n",
    "            print(word)"
   ]
  },
  {
   "cell_type": "code",
   "execution_count": null,
   "metadata": {
    "collapsed": true
   },
   "outputs": [],
   "source": [
    "# EX. Remove the \"$\" from the code above. How does it change the output? Why?"
   ]
  },
  {
   "cell_type": "code",
   "execution_count": null,
   "metadata": {
    "collapsed": false
   },
   "outputs": [],
   "source": [
    "word = 'Having'\n",
    "re.search(r'ing$', word)"
   ]
  },
  {
   "cell_type": "code",
   "execution_count": null,
   "metadata": {
    "collapsed": true
   },
   "outputs": [],
   "source": [
    "word = 'Ideas'\n",
    "re.search(r'ing$', word)"
   ]
  },
  {
   "cell_type": "code",
   "execution_count": null,
   "metadata": {
    "collapsed": false
   },
   "outputs": [],
   "source": [
    "# assign list of words to variable, so we don't have to read in the file each time\n",
    "with open('lecture notes 09-22-15.txt') as file_in:\n",
    "    lec_notes = file_in.read()\n",
    "word_list = lec_notes.split()"
   ]
  },
  {
   "cell_type": "code",
   "execution_count": null,
   "metadata": {
    "collapsed": false
   },
   "outputs": [],
   "source": [
    "[word for word in word_list if re.search(r'^..t..$', word)]"
   ]
  },
  {
   "cell_type": "code",
   "execution_count": null,
   "metadata": {
    "collapsed": true
   },
   "outputs": [],
   "source": [
    "# EX. What do you think the \"^\" and \".\" metacharacters do in the code?"
   ]
  },
  {
   "cell_type": "code",
   "execution_count": null,
   "metadata": {
    "collapsed": false
   },
   "outputs": [],
   "source": [
    "[word for word in word_list if re.search(r'^a.*t', word)]"
   ]
  },
  {
   "cell_type": "code",
   "execution_count": null,
   "metadata": {
    "collapsed": true
   },
   "outputs": [],
   "source": [
    "# EX. What do you think the \"*\" metacharacter does in the code?"
   ]
  },
  {
   "cell_type": "code",
   "execution_count": null,
   "metadata": {
    "collapsed": false
   },
   "outputs": [],
   "source": [
    "poe = \"While I nodded, nearly napping, suddenly there came a tapping,\\\n",
    "As of someone gently rapping, rapping at my chamber door.\""
   ]
  },
  {
   "cell_type": "code",
   "execution_count": null,
   "metadata": {
    "collapsed": false
   },
   "outputs": [],
   "source": [
    "re.findall(r'.apping', poe)"
   ]
  },
  {
   "cell_type": "code",
   "execution_count": null,
   "metadata": {
    "collapsed": false
   },
   "outputs": [],
   "source": [
    "re.findall(r'.(?=apping)', poe)"
   ]
  },
  {
   "cell_type": "code",
   "execution_count": null,
   "metadata": {
    "collapsed": false
   },
   "outputs": [],
   "source": [
    "re.findall(r\"(?<=ly ).apping\", poe)"
   ]
  },
  {
   "cell_type": "code",
   "execution_count": null,
   "metadata": {
    "collapsed": false
   },
   "outputs": [],
   "source": [
    "re.findall(r\"(?<=ly ).(?=apping)\", poe)"
   ]
  },
  {
   "cell_type": "code",
   "execution_count": null,
   "metadata": {
    "collapsed": true
   },
   "outputs": [],
   "source": [
    "# EX. Find a list of \"-apping\" words that are followed by a comma in the line from Poe\n",
    "#     -- but make sure the comma doesn't appear in your list entries!"
   ]
  },
  {
   "cell_type": "markdown",
   "metadata": {},
   "source": [
    "# A Fortunate Formula"
   ]
  },
  {
   "cell_type": "code",
   "execution_count": null,
   "metadata": {
    "collapsed": false
   },
   "outputs": [],
   "source": [
    "def istheXofY(text):\n",
    "    return re.search(r'the .* of .*', text.lower())!=None and len(text.split())<=4"
   ]
  },
  {
   "cell_type": "code",
   "execution_count": null,
   "metadata": {
    "collapsed": false
   },
   "outputs": [],
   "source": [
    "print(istheXofY('The Castle of Otronto'))\n",
    "print(istheXofY('The Castle in which there are some people of Otronto and other places'))"
   ]
  },
  {
   "cell_type": "code",
   "execution_count": null,
   "metadata": {
    "collapsed": false
   },
   "outputs": [],
   "source": [
    "# Graph the frequency of \"The X of Y\" titles per decade\n",
    "singlevol_tb['theXofY'] = singlevol_tb.apply(istheXofY, 'title')\n",
    "singlevol_tb['decade'] = singlevol_tb['date']//10*10\n",
    "singlevol_tb.group('decade', collect=np.mean).scatter('decade', 'theXofY mean')"
   ]
  },
  {
   "cell_type": "code",
   "execution_count": null,
   "metadata": {
    "collapsed": true
   },
   "outputs": [],
   "source": [
    "# Create table containing only \"The X of Y\" titles\n",
    "theXofY_tb = singlevol_tb.where('theXofY').drop('theXofY')"
   ]
  },
  {
   "cell_type": "code",
   "execution_count": null,
   "metadata": {
    "collapsed": false
   },
   "outputs": [],
   "source": [
    "def gettheX(text):\n",
    "    X = re.findall(r'(?<=the ).*(?= of )', text.lower())[0]\n",
    "    return X\n",
    "\n",
    "def gettheY(text):\n",
    "    Y = re.findall(r'(?<= of ).*', text.lower())[0]\n",
    "    return Y"
   ]
  },
  {
   "cell_type": "code",
   "execution_count": null,
   "metadata": {
    "collapsed": false
   },
   "outputs": [],
   "source": [
    "print(gettheX('The Castle of Otronto'))\n",
    "print(gettheY('The Castle of Otronto'))\n",
    "print()\n",
    "print(gettheX('The castle in which there are some people of Otronto and other places'))\n",
    "print(gettheY('The castle in which there are some people of Otronto and other places'))"
   ]
  },
  {
   "cell_type": "code",
   "execution_count": null,
   "metadata": {
    "collapsed": false
   },
   "outputs": [],
   "source": [
    "# Create new columns containing on the the Y and Y from each title\n",
    "theXofY_tb['theX'] = theXofY_tb.apply(gettheX, 'title')\n",
    "theXofY_tb['ofY'] = theXofY_tb.apply(gettheY, 'title')"
   ]
  },
  {
   "cell_type": "code",
   "execution_count": null,
   "metadata": {
    "collapsed": false
   },
   "outputs": [],
   "source": [
    "theXofY_tb"
   ]
  },
  {
   "cell_type": "code",
   "execution_count": null,
   "metadata": {
    "collapsed": false
   },
   "outputs": [],
   "source": [
    "from collections import Counter\n",
    "\n",
    "Xs = Counter(theXofY_tb['theX'])\n",
    "Ys = Counter(theXofY_tb['ofY'])"
   ]
  },
  {
   "cell_type": "code",
   "execution_count": null,
   "metadata": {
    "collapsed": false
   },
   "outputs": [],
   "source": [
    "Xs.most_common(10)"
   ]
  },
  {
   "cell_type": "code",
   "execution_count": null,
   "metadata": {
    "collapsed": false
   },
   "outputs": [],
   "source": [
    "Ys.most_common(10)"
   ]
  },
  {
   "cell_type": "code",
   "execution_count": null,
   "metadata": {
    "collapsed": true
   },
   "outputs": [],
   "source": [
    "# EX. In Moretti's study, he gives examples of titles using the formula \"The X of Y\"\n",
    "#     with lengths of up to seven words. If we tweak our function istheXofY()to allow\n",
    "#     for longer titles, how does this change our findings? Why?"
   ]
  }
 ],
 "metadata": {
  "kernelspec": {
   "display_name": "Python 3",
   "language": "python",
   "name": "python3"
  },
  "language_info": {
   "codemirror_mode": {
    "name": "ipython",
    "version": 3
   },
   "file_extension": ".py",
   "mimetype": "text/x-python",
   "name": "python",
   "nbconvert_exporter": "python",
   "pygments_lexer": "ipython3",
   "version": "3.5.1"
  }
 },
 "nbformat": 4,
 "nbformat_minor": 0
}
