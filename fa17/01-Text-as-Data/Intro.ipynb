{
 "cells": [
  {
   "cell_type": "markdown",
   "metadata": {
    "nbpresent": {
     "id": "490f8698-9cf1-44be-8843-ae10d7c4fef4"
    }
   },
   "source": [
    "Welcome to Rediscovering Text as Data!\n",
    "====================\n",
    "Week 1: Introduction\n",
    "* **Instructors:** [Christopher Hench](http://german.berkeley.edu/author/chench/) & [Claudia von Vacano](http://dlab.berkeley.edu/claudia-von-vacano)\n",
    "* **Course Location:** Evans 458\n",
    "* **Course Time:** Monday 4-6pm\n",
    "* **Instructor's Office:** Barrows 350\n",
    "* **Instructor's Office Hours:** Thursday 10-11 AM\n",
    "* **Instructors' Email:** [chench@berkeley.edu](chench@berkeley.edu), [cvacano@berkeley.edu](cvacano@berkeley.edu)\n",
    "* **Course Repository:** https://github.com/henchc/Rediscovering-Text-as-Data"
   ]
  },
  {
   "cell_type": "markdown",
   "metadata": {
    "nbpresent": {
     "id": "a2838ab7-1aea-4f37-b8fe-f4323229d8ce"
    }
   },
   "source": [
    "**Course Description:** Humanists have traditionally emphasized the ‘close reading’ of a text, where value is placed on the nuances of specific passages. The increasing amount of digital text being published and archived affords us an opportunity to read text differently—as data on a scale larger than ever before. This ‘distant reading’ approach (mediated through the computer) complements our ‘close reading’ by providing a broader context for interpretation previously inaccessible. It also allows us to quantify and model language, such as words in novels or syllables in poetry, to uncover hidden patterns in a single text or body of texts. In this course, we will help you find and explore newly available texts of interest to you and guide your understanding of textual phenomena obtained through computational methods, enriching your reading of an individual text.\n",
    "\n",
    "As a connector course to Data 8 (Foundations of Data Science), this class will give students experience in the Python programming language. Students **must** be concurrently enrolled in the main course (Data 8) or have already completed it."
   ]
  },
  {
   "cell_type": "markdown",
   "metadata": {
    "nbpresent": {
     "id": "3b09cad6-0795-4c28-b101-4babefaf29da"
    }
   },
   "source": [
    "# Who are you?"
   ]
  },
  {
   "cell_type": "code",
   "execution_count": null,
   "metadata": {
    "collapsed": false,
    "nbpresent": {
     "id": "d604ba8a-8cfb-4d6e-b96c-42d23d673e3c"
    }
   },
   "outputs": [],
   "source": [
    "%matplotlib inline\n",
    "\n",
    "import pandas as pd\n",
    "import matplotlib.pyplot as plt\n",
    "import seaborn as sns\n",
    "from collections import Counter\n",
    "\n",
    "\n",
    "terms = pd.read_csv('data/terms.csv')\n",
    "counts = Counter(terms['Terms in Attendance'].replace(\"—\", \"0\")).most_common()\n",
    "ax = sns.barplot(x=[x[0] for x in counts], y=[x[1] for x in counts], order=[x[0] for x in counts])\n",
    "ax = ax.set(xlabel='# of Terms', ylabel='Count', title='# of Terms')"
   ]
  },
  {
   "cell_type": "code",
   "execution_count": null,
   "metadata": {
    "collapsed": false,
    "nbpresent": {
     "id": "c643f0a1-4388-48da-98a0-89214c550296"
    }
   },
   "outputs": [],
   "source": [
    "majors = pd.read_csv('data/majors.csv')\n",
    "counts = Counter(majors['Majors']).most_common()\n",
    "ax = sns.barplot(x=[x[0] for x in counts], y=[x[1] for x in counts], order=[x[0] for x in counts])\n",
    "ax.set_xticklabels([x[0] for x in counts], rotation=90)\n",
    "ax = ax.set(xlabel='Majors', ylabel='Count', title='Major')"
   ]
  },
  {
   "cell_type": "markdown",
   "metadata": {
    "nbpresent": {
     "id": "a55ebadd-f009-428d-83e3-61d3a28caa3d"
    }
   },
   "source": [
    "# Let's get to know each other!"
   ]
  },
  {
   "cell_type": "code",
   "execution_count": null,
   "metadata": {
    "collapsed": true,
    "nbpresent": {
     "id": "3d4c3163-8dcb-48ad-9b69-7009294fc9b0"
    }
   },
   "outputs": [],
   "source": [
    "import random\n",
    "\n",
    "def assign_groups(rseed):\n",
    "    names = list(pd.read_csv('data/names.csv')['Name'])\n",
    "\n",
    "    random.seed(rseed)\n",
    "    random.shuffle(names)\n",
    "\n",
    "    def make_groups(lst, min_size):\n",
    "        num_groups = int(len(lst) / min_size)\n",
    "        return [lst[i::num_groups] for i in range(num_groups)]\n",
    "\n",
    "    for i, g in enumerate(make_groups(names, 2)):\n",
    "        print(i+1, g)"
   ]
  },
  {
   "cell_type": "code",
   "execution_count": null,
   "metadata": {
    "collapsed": false,
    "nbpresent": {
     "id": "04b5d89d-ce32-40eb-bddc-7b84b40c96bb"
    }
   },
   "outputs": [],
   "source": [
    "assign_groups(1)"
   ]
  },
  {
   "cell_type": "markdown",
   "metadata": {
    "nbpresent": {
     "id": "0ce20f59-a24f-463b-8052-2c4717391f30"
    }
   },
   "source": [
    "Introduce yourself to your partner:\n",
    "- What's your name?\n",
    "- What do you study/want to study?\n",
    "- Why are you interested in this course?"
   ]
  },
  {
   "cell_type": "markdown",
   "metadata": {
    "nbpresent": {
     "id": "67906ade-ce66-4fe8-93e4-80e183fff035"
    }
   },
   "source": [
    "# Questions to answer individually\n",
    "\n",
    "- What is data?\n",
    "- What data have you worked with?\n",
    "- How might we understand text as data?\n",
    "\n",
    "Google Form: https://goo.gl/forms/5g9WzjCy6RJB1zTA3"
   ]
  },
  {
   "cell_type": "markdown",
   "metadata": {
    "nbpresent": {
     "id": "e99df442-f40a-4737-8a87-3cf9a3f7bd63"
    }
   },
   "source": [
    "# Discuss your answers"
   ]
  },
  {
   "cell_type": "code",
   "execution_count": null,
   "metadata": {
    "collapsed": false,
    "nbpresent": {
     "id": "bcda1f7f-f8e1-4d75-a09a-bf425685088f"
    }
   },
   "outputs": [],
   "source": [
    "assign_groups(2)"
   ]
  },
  {
   "cell_type": "markdown",
   "metadata": {
    "nbpresent": {
     "id": "74feb2c7-8fd9-46c7-892e-f8498ee13c01"
    }
   },
   "source": [
    "# How did you respond?"
   ]
  },
  {
   "cell_type": "code",
   "execution_count": null,
   "metadata": {
    "collapsed": false,
    "nbpresent": {
     "id": "280d74ed-7b8d-410a-81c1-2a2b8d436a2b"
    }
   },
   "outputs": [],
   "source": [
    "gdoc_key = \"1QvPYlufedKe9Myb4wdduxuvjkp2U4oA2FlTUO_4vE5A\"\n",
    "spreadsheet_url = 'https://docs.google.com/spreadsheets/d/{0}/gviz/tq?tqx=out:csv'.format(gdoc_key)\n",
    "table = pd.read_csv(spreadsheet_url)\n",
    "table"
   ]
  },
  {
   "cell_type": "code",
   "execution_count": null,
   "metadata": {
    "collapsed": false,
    "nbpresent": {
     "id": "8385a2d3-4314-4cf4-95f3-8eef7302eda0"
    }
   },
   "outputs": [],
   "source": [
    "import nltk\n",
    "from nltk.corpus import stopwords\n",
    "from string import punctuation\n",
    "nltk.download('punkt')\n",
    "\n",
    "def visualize_responses(column, preprocess=False):\n",
    "    all_responses = table[column].str.cat(sep=' ')\n",
    "    if preprocess == True:\n",
    "        toks = nltk.word_tokenize(all_responses.lower())\n",
    "        all_responses = ' '.join([t for t in toks if t not in list(punctuation) and t not in stopwords.words('english')])\n",
    "    freq = Counter(all_responses.split()).most_common()\n",
    "    ax = sns.barplot([x[0] for x in freq][:10], [x[1] for x in freq][:10])\n",
    "    ax.set_xticklabels([x[0] for x in freq], rotation=45)\n",
    "    ax = ax.set(title=column)"
   ]
  },
  {
   "cell_type": "markdown",
   "metadata": {
    "nbpresent": {
     "id": "990df66a-987b-40b4-a837-f727d9ba6224"
    }
   },
   "source": [
    "# What is data?"
   ]
  },
  {
   "cell_type": "code",
   "execution_count": null,
   "metadata": {
    "collapsed": false,
    "nbpresent": {
     "id": "9d131083-73f8-4ad3-952b-18c165de39e6"
    }
   },
   "outputs": [],
   "source": [
    "visualize_responses('What is data?')"
   ]
  },
  {
   "cell_type": "markdown",
   "metadata": {
    "nbpresent": {
     "id": "a6c52da4-caa4-4993-b693-395556f563a7"
    }
   },
   "source": [
    "# What data have you worked with?"
   ]
  },
  {
   "cell_type": "code",
   "execution_count": null,
   "metadata": {
    "collapsed": false,
    "nbpresent": {
     "id": "3ac3678d-0cc6-4446-8f91-9335e38b062d"
    }
   },
   "outputs": [],
   "source": [
    "visualize_responses('What data have you worked with?')"
   ]
  },
  {
   "cell_type": "markdown",
   "metadata": {
    "nbpresent": {
     "id": "e47159fa-a948-441d-a013-049fb398d48c"
    }
   },
   "source": [
    "# How might we understand text as data?"
   ]
  },
  {
   "cell_type": "code",
   "execution_count": null,
   "metadata": {
    "collapsed": false,
    "nbpresent": {
     "id": "91d31a8c-159d-4fb6-9e20-1d233c24100b"
    }
   },
   "outputs": [],
   "source": [
    "visualize_responses('How might we understand text as data?')"
   ]
  },
  {
   "cell_type": "markdown",
   "metadata": {
    "nbpresent": {
     "id": "e29f9c9d-5454-4e92-ac12-dded9a9217c1"
    }
   },
   "source": [
    "Not super interesting ☹ . Don't worry! We'll learn some common techniques to get through the noise. For now, I've done some magic preprocessing for you!"
   ]
  },
  {
   "cell_type": "code",
   "execution_count": null,
   "metadata": {
    "collapsed": false,
    "nbpresent": {
     "id": "3c35e451-1c5b-4de1-9085-d56744b6bfff"
    }
   },
   "outputs": [],
   "source": [
    "visualize_responses('What is data?', preprocess=True)"
   ]
  },
  {
   "cell_type": "code",
   "execution_count": null,
   "metadata": {
    "collapsed": false,
    "nbpresent": {
     "id": "b4144f09-8bbf-4815-bdc1-025b4087a3bb"
    }
   },
   "outputs": [],
   "source": [
    "visualize_responses('What data have you worked with?', preprocess=True)"
   ]
  },
  {
   "cell_type": "code",
   "execution_count": null,
   "metadata": {
    "collapsed": false,
    "nbpresent": {
     "id": "756380fd-676f-4ec8-97b6-cae10a008e2d"
    }
   },
   "outputs": [],
   "source": [
    "visualize_responses('How might we understand text as data?', preprocess=True)"
   ]
  },
  {
   "cell_type": "markdown",
   "metadata": {
    "nbpresent": {
     "id": "34f367cf-cfdd-47ef-89a1-a3f09546b565"
    }
   },
   "source": [
    "This method of understanding text by just counting words is often derogatorily referred to as the *Bag of Words* approach. While it is not the most sophisticated model of text, it is still astonishingly powerful."
   ]
  },
  {
   "cell_type": "markdown",
   "metadata": {
    "nbpresent": {
     "id": "937211e6-7a12-47f6-b5d0-7df522f54ebc"
    }
   },
   "source": [
    "# How humanists are using text as data\n",
    "\n",
    "A great blog post by Ted Underwood [here](https://tedunderwood.com/2015/06/04/seven-ways-humanists-are-using-computers-to-understand-text/)!\n",
    "\n",
    "1. Visualizing text\n",
    "2. Features and vocabulary\n",
    "3. Network analysis (characters *and* books!)\n",
    "4. Modeling form and genre with supervised classification\n",
    "5. Unsupervised topic modeling and clustering"
   ]
  },
  {
   "cell_type": "markdown",
   "metadata": {
    "nbpresent": {
     "id": "384acb42-4487-4f8f-a27a-60d357bd4eb2"
    }
   },
   "source": [
    "# Course Topics\n",
    "\n",
    "\n",
    "### Theoretical Lenses\n",
    "- Close Reading\n",
    "- Formalism\n",
    "- Gender Theory\n",
    "- Social Network Theory\n",
    "\n",
    "### Applied Methods\n",
    "- Bag of Words\n",
    "    - Preprocessing\n",
    "    - n-grams\n",
    "- Content Extraction\n",
    "    - Named Entity Recognition\n",
    "    - Network Analysis\n",
    "- Machine Learning\n",
    "    - Classification\n",
    "    - Clustering\n",
    "    - Topic Modeling\n",
    "    - Word Embeddings\n",
    "    - Generating Text"
   ]
  },
  {
   "cell_type": "markdown",
   "metadata": {
    "nbpresent": {
     "id": "447ab425-995f-495b-a405-5a31d15c634b"
    }
   },
   "source": [
    "# Course Objectives\n",
    "- Think critically about operationalizing\n",
    "- Solidify and expand programming and inference skills acquired in Data 8"
   ]
  },
  {
   "cell_type": "markdown",
   "metadata": {
    "nbpresent": {
     "id": "8905ad60-4c19-4f5c-a3de-ba9cf74fe8d2"
    }
   },
   "source": [
    "# Final Project\n",
    "**Final Project:** The course is built around the final project (which replaces the final exam). This consists of a 4-5 page (double-spaced) paper in which an argument is made about a text(s) using evidence from both inferential statistics and close reading. This paper must examine an interpretive problem and may be written on any text(s) you choose, literary or other. While the corpus does not have to be literary in nature, please incorporate into your analysis the critical foundation we build in class.\n",
    "\n",
    "In preparation for the final paper, students will be required to fulfill several milestones. During **Week 8**, students will meet with an instructor outside of class to consult on texts, interpretive problems, and statistical methods of interest. In **Week 9**, students will submit a one-paragraph ~250 word proposal for their final project including these three elements. We will meet again during **Week 11** to discuss progress and obstacles in the project, as well as any findings. In **Week 12**, students submit one page describing their methods and statistical findings, including one visualization.\n",
    "\n",
    "In keeping with the best practices of the field, students will be required to make available their data set (pending copyright) and code through GitHub. Preliminary code will be posted during **Week 10** and final code – capable of reproducing your findings – before our last class. Please send me the link to your materials before this class so I can create an image and we can all run your code together!\n",
    "\n",
    "During our final class, students will deliver a 3-5 minute elevator pitch describing the challenge being explored and any decisions made or roadblocks faced while applying statistical methods in literature. This will act as a kind of rough draft for the paper, as well as offer an opportunity for feedback from your peers. The final draft of the paper is due on **December 11**."
   ]
  },
  {
   "cell_type": "markdown",
   "metadata": {
    "nbpresent": {
     "id": "13911ac0-f65a-43ed-8a20-c6180243d63a"
    }
   },
   "source": [
    "# Collaboration\n",
    "\n",
    "We want to encourage collaboration on all projects and assignments for this course. Collaboration is unfortunately a rare occurence in the humanities. Digital methods have forced humanists to rethink the utility of collaboration.\n",
    "\n",
    "To that end, we will also be making extensive use of [GitHub](https://github.com). We will have short tutorials as the course progresses, but we encourage you to walk through some tutorials (e.g. [here](http://product.hubspot.com/blog/git-and-github-tutorial-for-beginners)) yourselves.\n"
   ]
  },
  {
   "cell_type": "markdown",
   "metadata": {
    "nbpresent": {
     "id": "7c0e547c-d7c8-4bf4-a194-96ecce539e15"
    }
   },
   "source": [
    "# Syllabus\n",
    "\n",
    "The syllabus and schedule is in the [README file for the GitHub repo](https://github.com/henchc/Rediscovering-Text-as-Data/blob/master/README.md)."
   ]
  },
  {
   "cell_type": "markdown",
   "metadata": {
    "nbpresent": {
     "id": "50c6d7e1-84cf-4eed-a416-4e0ea29d643a"
    }
   },
   "source": [
    "# Personal Survey\n",
    "\n",
    "Tell us about yourself!\n",
    "\n",
    "- Name\n",
    "- Major/Interest\n",
    "- Background\n",
    "- Concerns about the class\n",
    "- What you'd like to get out of this class\n",
    "\n",
    "Google Form: https://goo.gl/forms/Ju7ZZUGXi1rXMhK23"
   ]
  },
  {
   "cell_type": "markdown",
   "metadata": {
    "nbpresent": {
     "id": "84604aca-d30f-4b38-8021-312294bbb6bd"
    }
   },
   "source": [
    "# Homework for our next meeting\n",
    "\n",
    "We're going to start off with a piece by Franco Moretti, widely acknowledged as one of the founders of Digital Humanities for literary analysis. At this time, Moretti was trying to justify computational techniques to his colleagues, and establishes the very simple concept of \"Character Space\". How much can we learn about a text by just counting words? \n",
    "\n",
    "First read an <a href='../02-Operationalizing/readings/Sophocles-Antigone-(selection).pdf' >excerpt</a> of Sophocles' *Antigone*, then read Moretti's <a href='../02-Operationalizing/readings/Moretti-Operationalizing.pdf' >critique</a>.\n",
    "\n",
    "We'll then walk through the  <a href='../02-Operationalizing/Operationalizing.ipynb' >notebook</a> together next meeting."
   ]
  }
 ],
 "metadata": {
  "anaconda-cloud": {},
  "kernelspec": {
   "display_name": "Python [conda root]",
   "language": "python",
   "name": "conda-root-py"
  },
  "language_info": {
   "codemirror_mode": {
    "name": "ipython",
    "version": 3
   },
   "file_extension": ".py",
   "mimetype": "text/x-python",
   "name": "python",
   "nbconvert_exporter": "python",
   "pygments_lexer": "ipython3",
   "version": "3.5.2"
  },
  "nbpresent": {
   "slides": {
    "0b774062-f57e-43fe-8d15-ce3d6409f7db": {
     "id": "0b774062-f57e-43fe-8d15-ce3d6409f7db",
     "prev": "11d7fed1-31b3-4afe-80e6-12b319f0e94f",
     "regions": {
      "a4c39aeb-2b5f-4c24-a002-64b223442c10": {
       "attrs": {
        "height": 0.8,
        "width": 0.8,
        "x": 0.1,
        "y": 0.1
       },
       "content": {
        "cell": "b4144f09-8bbf-4815-bdc1-025b4087a3bb",
        "part": "whole"
       },
       "id": "a4c39aeb-2b5f-4c24-a002-64b223442c10"
      }
     }
    },
    "11d7fed1-31b3-4afe-80e6-12b319f0e94f": {
     "id": "11d7fed1-31b3-4afe-80e6-12b319f0e94f",
     "prev": "4eb178f8-b0c9-4921-bb87-0c814d68c4a5",
     "regions": {
      "2c3105fe-3186-4bbe-990a-b214f033ec81": {
       "attrs": {
        "height": 0.8,
        "width": 0.8,
        "x": 0.1,
        "y": 0.1
       },
       "content": {
        "cell": "3c35e451-1c5b-4de1-9085-d56744b6bfff",
        "part": "whole"
       },
       "id": "2c3105fe-3186-4bbe-990a-b214f033ec81"
      }
     }
    },
    "1430ab96-8de2-40e1-92c1-857d50362493": {
     "id": "1430ab96-8de2-40e1-92c1-857d50362493",
     "prev": "85d3eaab-35ea-4caa-94be-9f2f8a29e223",
     "regions": {
      "90cbb991-8147-4d08-af56-2fdc37321f09": {
       "attrs": {
        "height": 0.8,
        "width": 0.8,
        "x": 0.1,
        "y": 0.1
       },
       "content": {
        "cell": "3ac3678d-0cc6-4446-8f91-9335e38b062d",
        "part": "whole"
       },
       "id": "90cbb991-8147-4d08-af56-2fdc37321f09"
      }
     }
    },
    "1df7cddc-16ec-4fa0-9199-1ce2dfda312d": {
     "id": "1df7cddc-16ec-4fa0-9199-1ce2dfda312d",
     "prev": "a98d7ecc-a1af-459c-8c8d-4e5a315a1364",
     "regions": {
      "230eabed-cffb-4476-affd-c6c173a48c4c": {
       "attrs": {
        "height": 0.8,
        "width": 0.8,
        "x": 0.1,
        "y": 0.1
       },
       "content": {
        "cell": "280d74ed-7b8d-410a-81c1-2a2b8d436a2b",
        "part": "whole"
       },
       "id": "230eabed-cffb-4476-affd-c6c173a48c4c"
      }
     }
    },
    "27326b41-dabd-4bf7-b4d1-d72f6b97dfca": {
     "id": "27326b41-dabd-4bf7-b4d1-d72f6b97dfca",
     "prev": "1430ab96-8de2-40e1-92c1-857d50362493",
     "regions": {
      "81880f4c-fee6-4886-a750-b140d478b1f4": {
       "attrs": {
        "height": 0.8,
        "width": 0.8,
        "x": 0.1,
        "y": 0.1
       },
       "content": {
        "cell": "e47159fa-a948-441d-a013-049fb398d48c",
        "part": "whole"
       },
       "id": "81880f4c-fee6-4886-a750-b140d478b1f4"
      }
     }
    },
    "29f9e5bb-f709-41c5-990b-2793ad0a5bfd": {
     "id": "29f9e5bb-f709-41c5-990b-2793ad0a5bfd",
     "prev": "0b774062-f57e-43fe-8d15-ce3d6409f7db",
     "regions": {
      "5340fcb7-fb92-4b10-bd2a-08e6e24bdb62": {
       "attrs": {
        "height": 0.8,
        "width": 0.8,
        "x": 0.1,
        "y": 0.1
       },
       "content": {
        "cell": "756380fd-676f-4ec8-97b6-cae10a008e2d",
        "part": "whole"
       },
       "id": "5340fcb7-fb92-4b10-bd2a-08e6e24bdb62"
      }
     }
    },
    "2ba35761-eaee-4f80-b7b1-4f18f248cb73": {
     "id": "2ba35761-eaee-4f80-b7b1-4f18f248cb73",
     "prev": "b0d38f24-2401-4ce1-bf3d-3607585ea74c",
     "regions": {
      "988490aa-494d-487e-a8de-c57ff496be66": {
       "attrs": {
        "height": 0.8,
        "width": 0.8,
        "x": 0.1,
        "y": 0.1
       },
       "content": {
        "cell": "3d4c3163-8dcb-48ad-9b69-7009294fc9b0",
        "part": "whole"
       },
       "id": "988490aa-494d-487e-a8de-c57ff496be66"
      }
     }
    },
    "39b3ba66-5b72-4f9b-b0a4-4e3c144a3dc8": {
     "id": "39b3ba66-5b72-4f9b-b0a4-4e3c144a3dc8",
     "prev": "6b4ab5e9-0f79-456a-9723-85c754ce9fa4",
     "regions": {
      "1341a499-899a-464c-839c-9778dc2b6765": {
       "attrs": {
        "height": 0.8,
        "width": 0.8,
        "x": 0.1,
        "y": 0.1
       },
       "content": {
        "cell": "d604ba8a-8cfb-4d6e-b96c-42d23d673e3c",
        "part": "whole"
       },
       "id": "1341a499-899a-464c-839c-9778dc2b6765"
      }
     }
    },
    "3db69c3a-cbac-4403-aa0c-04807dca21c6": {
     "id": "3db69c3a-cbac-4403-aa0c-04807dca21c6",
     "prev": "68db41b5-212d-406d-9efe-e9a293bfa4b5",
     "regions": {
      "4a0be997-bf6d-4402-811b-c8116d17e766": {
       "attrs": {
        "height": 0.8,
        "width": 0.8,
        "x": 0.1,
        "y": 0.1
       },
       "content": {
        "cell": "7c0e547c-d7c8-4bf4-a194-96ecce539e15",
        "part": "whole"
       },
       "id": "4a0be997-bf6d-4402-811b-c8116d17e766"
      }
     }
    },
    "4eb178f8-b0c9-4921-bb87-0c814d68c4a5": {
     "id": "4eb178f8-b0c9-4921-bb87-0c814d68c4a5",
     "prev": "75f6d157-de8a-4693-9b65-bc0d6dbc69f7",
     "regions": {
      "4d391149-2e06-4f46-9b9f-c14e3d7142eb": {
       "attrs": {
        "height": 0.8,
        "width": 0.8,
        "x": 0.1,
        "y": 0.1
       },
       "content": {
        "cell": "e29f9c9d-5454-4e92-ac12-dded9a9217c1",
        "part": "whole"
       },
       "id": "4d391149-2e06-4f46-9b9f-c14e3d7142eb"
      }
     }
    },
    "55b6d166-91b3-4e9f-8372-2f4102ac90b4": {
     "id": "55b6d166-91b3-4e9f-8372-2f4102ac90b4",
     "prev": "930a3620-0835-479f-8939-bf88f838bac0",
     "regions": {
      "ac5ded8b-d4c6-4705-8d72-1eb64e764e13": {
       "attrs": {
        "height": 0.8,
        "width": 0.8,
        "x": 0.1,
        "y": 0.1
       },
       "content": {
        "cell": "8905ad60-4c19-4f5c-a3de-ba9cf74fe8d2",
        "part": "whole"
       },
       "id": "ac5ded8b-d4c6-4705-8d72-1eb64e764e13"
      }
     }
    },
    "56725aa3-117b-4fd4-b1c5-fc08965d5f47": {
     "id": "56725aa3-117b-4fd4-b1c5-fc08965d5f47",
     "prev": "e7460bf1-c553-4b39-8ac6-fdab07d6139a",
     "regions": {
      "61120dcb-2090-4cdc-8464-3dcd81ec8773": {
       "attrs": {
        "height": 0.8,
        "width": 0.8,
        "x": 0.1,
        "y": 0.1
       },
       "content": {
        "cell": "bcda1f7f-f8e1-4d75-a09a-bf425685088f",
        "part": "whole"
       },
       "id": "61120dcb-2090-4cdc-8464-3dcd81ec8773"
      }
     }
    },
    "5d7be42b-22cd-45b5-a2e6-87722eb61900": {
     "id": "5d7be42b-22cd-45b5-a2e6-87722eb61900",
     "prev": "a35afb40-2f10-431e-89a3-d1adc0abf4a1",
     "regions": {
      "f7cdc0b0-d495-4a68-8b69-d2ee109c1775": {
       "attrs": {
        "height": 0.8,
        "width": 0.8,
        "x": 0.1,
        "y": 0.1
       },
       "content": {
        "cell": "a2838ab7-1aea-4f37-b8fe-f4323229d8ce",
        "part": "whole"
       },
       "id": "f7cdc0b0-d495-4a68-8b69-d2ee109c1775"
      }
     }
    },
    "65c6b42c-310d-459e-aed6-fa634735970b": {
     "id": "65c6b42c-310d-459e-aed6-fa634735970b",
     "prev": "b865af69-7b27-4d12-b23d-b0a839d4954f",
     "regions": {
      "fc660dee-8c28-441a-b8f2-8aefca9c8f96": {
       "attrs": {
        "height": 0.8,
        "width": 0.8,
        "x": 0.1,
        "y": 0.1
       },
       "content": {
        "cell": "84604aca-d30f-4b38-8021-312294bbb6bd",
        "part": "whole"
       },
       "id": "fc660dee-8c28-441a-b8f2-8aefca9c8f96"
      }
     }
    },
    "6823425d-8bfa-4e45-bdc9-4db973b41238": {
     "id": "6823425d-8bfa-4e45-bdc9-4db973b41238",
     "prev": "29f9e5bb-f709-41c5-990b-2793ad0a5bfd",
     "regions": {
      "8ba40d60-632c-4291-a2ea-aecfd3289634": {
       "attrs": {
        "height": 0.8,
        "width": 0.8,
        "x": 0.1,
        "y": 0.1
       },
       "content": {
        "cell": "34f367cf-cfdd-47ef-89a1-a3f09546b565",
        "part": "whole"
       },
       "id": "8ba40d60-632c-4291-a2ea-aecfd3289634"
      }
     }
    },
    "68db41b5-212d-406d-9efe-e9a293bfa4b5": {
     "id": "68db41b5-212d-406d-9efe-e9a293bfa4b5",
     "prev": "55b6d166-91b3-4e9f-8372-2f4102ac90b4",
     "regions": {
      "7caa32f2-356e-4c51-84b9-d4a027fd9a0b": {
       "attrs": {
        "height": 0.8,
        "width": 0.8,
        "x": 0.1,
        "y": 0.1
       },
       "content": {
        "cell": "13911ac0-f65a-43ed-8a20-c6180243d63a",
        "part": "whole"
       },
       "id": "7caa32f2-356e-4c51-84b9-d4a027fd9a0b"
      }
     }
    },
    "6b4ab5e9-0f79-456a-9723-85c754ce9fa4": {
     "id": "6b4ab5e9-0f79-456a-9723-85c754ce9fa4",
     "prev": "5d7be42b-22cd-45b5-a2e6-87722eb61900",
     "regions": {
      "6d5b79e1-821b-408e-9316-07fa9d1821e5": {
       "attrs": {
        "height": 0.8,
        "width": 0.8,
        "x": 0.1,
        "y": 0.1
       },
       "content": {
        "cell": "3b09cad6-0795-4c28-b101-4babefaf29da",
        "part": "whole"
       },
       "id": "6d5b79e1-821b-408e-9316-07fa9d1821e5"
      }
     }
    },
    "6b7d660d-76fb-4e83-88e3-16524f6ad502": {
     "id": "6b7d660d-76fb-4e83-88e3-16524f6ad502",
     "prev": "6823425d-8bfa-4e45-bdc9-4db973b41238",
     "regions": {
      "e90e6661-cd43-4c5e-b84a-1bc6c73b1a01": {
       "attrs": {
        "height": 0.8,
        "width": 0.8,
        "x": 0.1,
        "y": 0.1
       },
       "content": {
        "cell": "937211e6-7a12-47f6-b5d0-7df522f54ebc",
        "part": "whole"
       },
       "id": "e90e6661-cd43-4c5e-b84a-1bc6c73b1a01"
      }
     }
    },
    "75e2b939-8bcb-44cf-8dea-8f7560473a7c": {
     "id": "75e2b939-8bcb-44cf-8dea-8f7560473a7c",
     "prev": "cfacc973-b603-459c-acd9-699fe875f057",
     "regions": {
      "21ce4ed7-2a26-438c-8577-ccc264187282": {
       "attrs": {
        "height": 0.8,
        "width": 0.8,
        "x": 0.1,
        "y": 0.1
       },
       "content": {
        "cell": "9d131083-73f8-4ad3-952b-18c165de39e6",
        "part": "whole"
       },
       "id": "21ce4ed7-2a26-438c-8577-ccc264187282"
      }
     }
    },
    "75f6d157-de8a-4693-9b65-bc0d6dbc69f7": {
     "id": "75f6d157-de8a-4693-9b65-bc0d6dbc69f7",
     "prev": "27326b41-dabd-4bf7-b4d1-d72f6b97dfca",
     "regions": {
      "c8a803f8-a13b-4654-ae48-062a02ceeb0a": {
       "attrs": {
        "height": 0.8,
        "width": 0.8,
        "x": 0.1,
        "y": 0.1
       },
       "content": {
        "cell": "91d31a8c-159d-4fb6-9e20-1d233c24100b",
        "part": "whole"
       },
       "id": "c8a803f8-a13b-4654-ae48-062a02ceeb0a"
      }
     }
    },
    "85d3eaab-35ea-4caa-94be-9f2f8a29e223": {
     "id": "85d3eaab-35ea-4caa-94be-9f2f8a29e223",
     "prev": "75e2b939-8bcb-44cf-8dea-8f7560473a7c",
     "regions": {
      "12d09017-f881-4925-8e35-7aa150afd4e2": {
       "attrs": {
        "height": 0.8,
        "width": 0.8,
        "x": 0.1,
        "y": 0.1
       },
       "content": {
        "cell": "a6c52da4-caa4-4993-b693-395556f563a7",
        "part": "whole"
       },
       "id": "12d09017-f881-4925-8e35-7aa150afd4e2"
      }
     }
    },
    "8ec9cb60-5d62-43d9-96a7-10319ab3d408": {
     "id": "8ec9cb60-5d62-43d9-96a7-10319ab3d408",
     "prev": "1df7cddc-16ec-4fa0-9199-1ce2dfda312d",
     "regions": {
      "6b391719-011a-446e-b105-fd1e1ad6fc35": {
       "attrs": {
        "height": 0.8,
        "width": 0.8,
        "x": 0.1,
        "y": 0.1
       },
       "content": {
        "cell": "8385a2d3-4314-4cf4-95f3-8eef7302eda0",
        "part": "whole"
       },
       "id": "6b391719-011a-446e-b105-fd1e1ad6fc35"
      }
     }
    },
    "930a3620-0835-479f-8939-bf88f838bac0": {
     "id": "930a3620-0835-479f-8939-bf88f838bac0",
     "prev": "9bc0f112-f607-4f22-a0b5-60c533f90569",
     "regions": {
      "9a9bfcb7-485e-4bc3-a0f2-5874c9bdce5b": {
       "attrs": {
        "height": 0.8,
        "width": 0.8,
        "x": 0.1,
        "y": 0.1
       },
       "content": {
        "cell": "447ab425-995f-495b-a405-5a31d15c634b",
        "part": "whole"
       },
       "id": "9a9bfcb7-485e-4bc3-a0f2-5874c9bdce5b"
      }
     }
    },
    "9bc0f112-f607-4f22-a0b5-60c533f90569": {
     "id": "9bc0f112-f607-4f22-a0b5-60c533f90569",
     "prev": "6b7d660d-76fb-4e83-88e3-16524f6ad502",
     "regions": {
      "ca5d01d8-495b-48cd-ba03-659ec4e05d65": {
       "attrs": {
        "height": 0.8,
        "width": 0.8,
        "x": 0.1,
        "y": 0.1
       },
       "content": {
        "cell": "384acb42-4487-4f8f-a27a-60d357bd4eb2",
        "part": "whole"
       },
       "id": "ca5d01d8-495b-48cd-ba03-659ec4e05d65"
      }
     }
    },
    "a35afb40-2f10-431e-89a3-d1adc0abf4a1": {
     "id": "a35afb40-2f10-431e-89a3-d1adc0abf4a1",
     "prev": null,
     "regions": {
      "dfbf4a51-ad2b-4c38-a705-d58a8ca31698": {
       "attrs": {
        "height": 0.8,
        "width": 0.8,
        "x": 0.1,
        "y": 0.1
       },
       "content": {
        "cell": "490f8698-9cf1-44be-8843-ae10d7c4fef4",
        "part": "whole"
       },
       "id": "dfbf4a51-ad2b-4c38-a705-d58a8ca31698"
      }
     }
    },
    "a910f89f-d214-43fa-bb15-e3868c543148": {
     "id": "a910f89f-d214-43fa-bb15-e3868c543148",
     "prev": "e461c5ea-6c71-40c8-a3ea-2e9716fa1992",
     "regions": {
      "da234aea-d5d7-494d-90e4-df3918b6c199": {
       "attrs": {
        "height": 0.8,
        "width": 0.8,
        "x": 0.1,
        "y": 0.1
       },
       "content": {
        "cell": "67906ade-ce66-4fe8-93e4-80e183fff035",
        "part": "whole"
       },
       "id": "da234aea-d5d7-494d-90e4-df3918b6c199"
      }
     }
    },
    "a98d7ecc-a1af-459c-8c8d-4e5a315a1364": {
     "id": "a98d7ecc-a1af-459c-8c8d-4e5a315a1364",
     "prev": "56725aa3-117b-4fd4-b1c5-fc08965d5f47",
     "regions": {
      "7aaf907a-5bc7-4bf0-b97e-55e98e3572a5": {
       "attrs": {
        "height": 0.8,
        "width": 0.8,
        "x": 0.1,
        "y": 0.1
       },
       "content": {
        "cell": "74feb2c7-8fd9-46c7-892e-f8498ee13c01",
        "part": "whole"
       },
       "id": "7aaf907a-5bc7-4bf0-b97e-55e98e3572a5"
      }
     }
    },
    "b0d38f24-2401-4ce1-bf3d-3607585ea74c": {
     "id": "b0d38f24-2401-4ce1-bf3d-3607585ea74c",
     "prev": "c5e95c2e-637f-4339-87c8-7154b86361e6",
     "regions": {
      "4b291142-796f-41ab-90b7-5955c652a10c": {
       "attrs": {
        "height": 0.8,
        "width": 0.8,
        "x": 0.1,
        "y": 0.1
       },
       "content": {
        "cell": "a55ebadd-f009-428d-83e3-61d3a28caa3d",
        "part": "whole"
       },
       "id": "4b291142-796f-41ab-90b7-5955c652a10c"
      }
     }
    },
    "b865af69-7b27-4d12-b23d-b0a839d4954f": {
     "id": "b865af69-7b27-4d12-b23d-b0a839d4954f",
     "prev": "3db69c3a-cbac-4403-aa0c-04807dca21c6",
     "regions": {
      "95ef971d-2feb-4eb0-87cc-2d88ea7dab2a": {
       "attrs": {
        "height": 0.8,
        "width": 0.8,
        "x": 0.1,
        "y": 0.1
       },
       "content": {
        "cell": "50c6d7e1-84cf-4eed-a416-4e0ea29d643a",
        "part": "whole"
       },
       "id": "95ef971d-2feb-4eb0-87cc-2d88ea7dab2a"
      }
     }
    },
    "c5e95c2e-637f-4339-87c8-7154b86361e6": {
     "id": "c5e95c2e-637f-4339-87c8-7154b86361e6",
     "prev": "39b3ba66-5b72-4f9b-b0a4-4e3c144a3dc8",
     "regions": {
      "65d1385c-75a2-4b6c-a960-710f1b0cd69a": {
       "attrs": {
        "height": 0.8,
        "width": 0.8,
        "x": 0.1,
        "y": 0.1
       },
       "content": {
        "cell": "c643f0a1-4388-48da-98a0-89214c550296",
        "part": "whole"
       },
       "id": "65d1385c-75a2-4b6c-a960-710f1b0cd69a"
      }
     }
    },
    "cfacc973-b603-459c-acd9-699fe875f057": {
     "id": "cfacc973-b603-459c-acd9-699fe875f057",
     "prev": "8ec9cb60-5d62-43d9-96a7-10319ab3d408",
     "regions": {
      "edfa4bad-c29c-47a9-a808-32d88e647443": {
       "attrs": {
        "height": 0.8,
        "width": 0.8,
        "x": 0.1,
        "y": 0.1
       },
       "content": {
        "cell": "990df66a-987b-40b4-a837-f727d9ba6224",
        "part": "whole"
       },
       "id": "edfa4bad-c29c-47a9-a808-32d88e647443"
      }
     }
    },
    "d1d62cbd-d583-4c08-a0f3-2be440fdcb3a": {
     "id": "d1d62cbd-d583-4c08-a0f3-2be440fdcb3a",
     "prev": "2ba35761-eaee-4f80-b7b1-4f18f248cb73",
     "regions": {
      "10536bb9-f8f1-4faf-9963-9abae157ca62": {
       "attrs": {
        "height": 0.8,
        "width": 0.8,
        "x": 0.1,
        "y": 0.1
       },
       "content": {
        "cell": "04b5d89d-ce32-40eb-bddc-7b84b40c96bb",
        "part": "whole"
       },
       "id": "10536bb9-f8f1-4faf-9963-9abae157ca62"
      }
     }
    },
    "e461c5ea-6c71-40c8-a3ea-2e9716fa1992": {
     "id": "e461c5ea-6c71-40c8-a3ea-2e9716fa1992",
     "prev": "d1d62cbd-d583-4c08-a0f3-2be440fdcb3a",
     "regions": {
      "468022cd-979c-46e9-8314-3005fed46396": {
       "attrs": {
        "height": 0.8,
        "width": 0.8,
        "x": 0.1,
        "y": 0.1
       },
       "content": {
        "cell": "0ce20f59-a24f-463b-8052-2c4717391f30",
        "part": "whole"
       },
       "id": "468022cd-979c-46e9-8314-3005fed46396"
      }
     }
    },
    "e7460bf1-c553-4b39-8ac6-fdab07d6139a": {
     "id": "e7460bf1-c553-4b39-8ac6-fdab07d6139a",
     "prev": "a910f89f-d214-43fa-bb15-e3868c543148",
     "regions": {
      "59c0f6ad-5182-4414-9014-4a649d02a75d": {
       "attrs": {
        "height": 0.8,
        "width": 0.8,
        "x": 0.1,
        "y": 0.1
       },
       "content": {
        "cell": "e99df442-f40a-4737-8a87-3cf9a3f7bd63",
        "part": "whole"
       },
       "id": "59c0f6ad-5182-4414-9014-4a649d02a75d"
      }
     }
    }
   },
   "themes": {}
  }
 },
 "nbformat": 4,
 "nbformat_minor": 1
}
