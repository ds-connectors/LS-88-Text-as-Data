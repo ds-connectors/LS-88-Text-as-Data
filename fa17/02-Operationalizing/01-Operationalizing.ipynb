{
 "cells": [
  {
   "cell_type": "code",
   "execution_count": null,
   "metadata": {
    "collapsed": false
   },
   "outputs": [],
   "source": [
    "# Show graphs in notebook\n",
    "%matplotlib inline\n",
    "\n",
    "# Import libraries\n",
    "import pandas as pd  # tabular data analysis library\n",
    "import numpy as np  # mathematical operations library\n",
    "import os  # library for manipulating the file system and Bash\n",
    "from sklearn.feature_extraction.text import CountVectorizer \n",
    "import re  # regular expressions library\n",
    "import matplotlib.pyplot as plt  # plotting base library\n",
    "import seaborn as sns  # plotting extension library\n",
    "from bs4 import BeautifulSoup  # html/lxml parsing library\n",
    "from datascience import *"
   ]
  },
  {
   "cell_type": "markdown",
   "metadata": {},
   "source": [
    "# Character Space\n",
    "\n",
    "This notebook recreates results discussed in:\n",
    "\n",
    "- Moretti, Franco. \"'Operationalizing': or, the function of measurement in modern literary theory\". Stanford Literary Lab Pamphlet 6. 2013\n",
    "\n",
    "In Moretti's study, he offers several measures of the concept of <i>character space</i>. The simplest of these is to measure the relative dialogue belonging to each character in a play. Presumably the main characters will speak more and peripheral characters will speak less.\n",
    "\n",
    "The statistical moves we will make here are not only counting the raw number of words spoken by each character, but also normalizing them. That is, converting them into a fraction of all words in the play.\n",
    "\n",
    "In order to focus on the statistical tasks at hand, we need to parse raw text files to figure out who said what. Unfortunately, that's the hard part! We'll walk through the first one and I'll quickly do the ones after."
   ]
  },
  {
   "cell_type": "markdown",
   "metadata": {},
   "source": [
    "# Jean Racine's *Phèdre*"
   ]
  },
  {
   "cell_type": "code",
   "execution_count": null,
   "metadata": {
    "collapsed": false
   },
   "outputs": [],
   "source": [
    "# Read the text of the play from its file on the hard-drive\n",
    "with open('data/phedre.txt', 'r') as f:\n",
    "    phedre = f.read()\n",
    "\n",
    "print(phedre[:200])  # print first 200 characters"
   ]
  },
  {
   "cell_type": "code",
   "execution_count": null,
   "metadata": {
    "collapsed": false
   },
   "outputs": [],
   "source": [
    "# Create a list, where each entry is a line from the play. We'll split on double line breaks.\n",
    "# Each line starts with the name of the speaker.\n",
    "phedre_list = phedre.split('\\n\\n')\n",
    "\n",
    "# Create a regex pattern to match words we don't want to start the line\n",
    "pattern = re.compile(r'ACT|SCENE|Scene')\n",
    "\n",
    "# Grab list of all the dialogue lines if they don't have the words above in them\n",
    "phedre_list = [x.strip() for x in phedre_list if re.match(pattern, x) == None and '\\n' in x.strip()]\n",
    "\n",
    "# Print first three dialogue turns\n",
    "phedre_list[:3]"
   ]
  },
  {
   "cell_type": "markdown",
   "metadata": {},
   "source": [
    "Now that we have the dialogue texts in a list, we can attribute dialogue words to each character.\n",
    "\n",
    "> \"character-space turns smoothly into “word-space”—“the number of words allocated to a particular character”—and, by counting the words each character utters, we can determine how much textual space it occupies.\" [2]"
   ]
  },
  {
   "cell_type": "code",
   "execution_count": null,
   "metadata": {
    "collapsed": false
   },
   "outputs": [],
   "source": [
    "# Create a dictionary where each key is the name of a character\n",
    "# and each entry is a single string of words spoken by them\n",
    "\n",
    "# Initiate empty dict\n",
    "dialogue_dict_phedre = {}\n",
    "\n",
    "# Iterate through list of turns in the dialogue list\n",
    "for line in phedre_list:\n",
    "    \n",
    "    # Get the name of the character\n",
    "    char = line.split('\\n')[0].split()[0]\n",
    "    \n",
    "    # Get the dialogue text\n",
    "    dialogue = '\\n'.join(line.split('\\n')[1:])\n",
    "    \n",
    "    # Add dialogue text to that character\n",
    "    if char not in dialogue_dict_phedre.keys():\n",
    "        dialogue_dict_phedre[char] = dialogue\n",
    "    else:\n",
    "        dialogue_dict_phedre[char] += dialogue\n",
    "\n",
    "        \n",
    "# Print first 200 character's of Phaedra's dialogue\n",
    "print(dialogue_dict_phedre['PHAEDRA'][:200])"
   ]
  },
  {
   "cell_type": "code",
   "execution_count": null,
   "metadata": {
    "collapsed": false
   },
   "outputs": [],
   "source": [
    "def plot_character_space(dialogue):\n",
    "    \n",
    "    # Create counter to get all words in all dialogue\n",
    "    total_words = 0\n",
    "    for char in dialogue.keys():\n",
    "        total_words += len(dialogue[char].split())\n",
    "        \n",
    "    # Create dict to record share of dialogue for each character\n",
    "    dialogue_share = []\n",
    "    for char in dialogue.keys():\n",
    "        dialogue_share.append({'Character': char.title(), 'Dialogue Share': len(dialogue[char].split()) / total_words * 100}) \n",
    "        \n",
    "    my_table = Table.from_records(dialogue_share).sort('Dialogue Share', descending=True)\n",
    "    my_table.bar(column_for_categories='Character')\n",
    "    plt.xticks(range(len(my_table.columns[0])), my_table.columns[0], rotation=90)"
   ]
  },
  {
   "cell_type": "code",
   "execution_count": null,
   "metadata": {
    "collapsed": false
   },
   "outputs": [],
   "source": [
    "plot_character_space(dialogue_dict_phedre)"
   ]
  },
  {
   "cell_type": "markdown",
   "metadata": {},
   "source": [
    "<img src='img/fig1.png' width=\"66%\" height=\"66%\">"
   ]
  },
  {
   "cell_type": "markdown",
   "metadata": {},
   "source": [
    "# Macbeth"
   ]
  },
  {
   "cell_type": "code",
   "execution_count": null,
   "metadata": {
    "collapsed": false
   },
   "outputs": [],
   "source": [
    "# Read in text\n",
    "with open('data/macbeth.txt', 'r') as f:\n",
    "    macbeth = f.read()\n",
    "\n",
    "# Get cast\n",
    "pattern = re.compile(r'<[A-Z ]*>')\n",
    "cast = list(set(re.findall(pattern, macbeth)))\n",
    "cast = [x.replace('>', '').replace('<', '') for x in cast]\n",
    "\n",
    "# Make dialogue dict\n",
    "soup = BeautifulSoup(macbeth, 'lxml')\n",
    "dialogue_dict_macbeth = {}\n",
    "for c in cast:\n",
    "    dialogue = [x.text for x in soup.find_all(c.lower().split()[0])]\n",
    "    dialogue = '\\n'.join([re.sub(r'<.*>', '', x).strip() for x in dialogue])\n",
    "    dialogue_dict_macbeth[c] = dialogue\n",
    "\n",
    "# Plot\n",
    "plot_character_space(dialogue_dict_macbeth)"
   ]
  },
  {
   "cell_type": "markdown",
   "metadata": {},
   "source": [
    "<img src='img/fig3.png' width=\"66%\" height=\"66%\">"
   ]
  },
  {
   "cell_type": "markdown",
   "metadata": {},
   "source": [
    "# Othello"
   ]
  },
  {
   "cell_type": "code",
   "execution_count": null,
   "metadata": {
    "collapsed": false
   },
   "outputs": [],
   "source": [
    "# Read in text\n",
    "with open('data/othello.txt', 'r') as f:\n",
    "    othello = f.read()\n",
    "\n",
    "# Get cast\n",
    "pattern = re.compile(r'<[A-Z ]*>')\n",
    "cast = list(set(re.findall(pattern, othello)))\n",
    "cast = [x.replace('>', '').replace('<', '') for x in cast]\n",
    "\n",
    "# Make dialogue dict\n",
    "soup = BeautifulSoup(othello, 'lxml')\n",
    "dialogue_dict_othello = {}\n",
    "for c in cast:\n",
    "    dialogue = [x.text for x in soup.find_all(c.lower().split()[0])]\n",
    "    dialogue = '\\n'.join([re.sub(r'<.*>', '', x).strip() for x in dialogue])\n",
    "    dialogue_dict_othello[c] = dialogue\n",
    "\n",
    "# Plot\n",
    "plot_character_space(dialogue_dict_othello)"
   ]
  },
  {
   "cell_type": "markdown",
   "metadata": {},
   "source": [
    "<img src='img/fig4.png' width=\"66%\" height=\"66%\">"
   ]
  },
  {
   "cell_type": "markdown",
   "metadata": {},
   "source": [
    "# Antigone"
   ]
  },
  {
   "cell_type": "code",
   "execution_count": null,
   "metadata": {
    "collapsed": false
   },
   "outputs": [],
   "source": [
    "# Read in text\n",
    "with open('data/antigone.txt', 'r') as f:\n",
    "    antigone = f.read()\n",
    "\n",
    "# Split lines\n",
    "antigone_list = antigone.split('\\n\\n')\n",
    "\n",
    "# Make dialogue dict\n",
    "dialogue_dict_antigone = {}\n",
    "for line in antigone_list:\n",
    "    dex = line.index(' ')\n",
    "    char = line[:dex]\n",
    "    if char not in dialogue_dict_antigone.keys():\n",
    "        dialogue_dict_antigone[char] = line[dex:]\n",
    "    else:\n",
    "        dialogue_dict_antigone[char] += line[dex:]\n",
    "\n",
    "# Plot\n",
    "plot_character_space(dialogue_dict_antigone)"
   ]
  },
  {
   "cell_type": "markdown",
   "metadata": {},
   "source": [
    "<img src='img/fig7.png' width=\"66%\" height=\"66%\">"
   ]
  },
  {
   "cell_type": "markdown",
   "metadata": {},
   "source": [
    "# Operationalizing Tragic Collision: Most Distinctive Words\n",
    "\n",
    "The code below looks complicated, but all it does is count how many times each character said each word in the entire text. If the character didn't say the word, it just gets tallied as a 0. We then sum all of these counts to get the number of times each word is spoken in the text. If we're intested in the most distinctive words, we'd want to know how many times a character said a specific word compared to how many times it was spoken in the entire text.\n",
    "\n",
    "We'll make an 'EXPECTED' column that tells us if the word was distributed evenly amongst characters, how many times our target character should have said it. Then we'll add a column for the ratio between the observed occurences and the expected occurences.\n",
    "\n",
    "**TLDR: This code will tell us which words a specific character used more or less frequently than average for a character in a text.**\n",
    "\n",
    "> \"To do this, the Literary Lab follows an approach (which we call Most Distinctive Words) in several steps. First, we establish how often a word occurs in the corpus, and hence how often a specific character is expected to use it given the amount of words at its disposal; then we count how often the character actually utters the word, and calculate the ratio between actual and expected frequency; the higher the ratio, the greater the deviation from the average, and the more typical the word is of that character.\" [10]"
   ]
  },
  {
   "cell_type": "code",
   "execution_count": null,
   "metadata": {
    "collapsed": false
   },
   "outputs": [],
   "source": [
    "def get_mdw(dialogue_dict, character, group=False):\n",
    "    # Boot up the dtm-maker\n",
    "    cv = CountVectorizer()\n",
    "\n",
    "    # Create the dtm\n",
    "    dtm = cv.fit_transform(dialogue_dict.values()).toarray()\n",
    "\n",
    "    # Put the dtm into human-readable format\n",
    "    word_list = cv.get_feature_names()\n",
    "    \n",
    "    dtm_df = pd.DataFrame(dtm, columns = word_list, index = dialogue_dict.keys())\n",
    "\n",
    "    # Create new dataframe\n",
    "    mdw_df = pd.DataFrame()\n",
    "\n",
    "    # Add a column for her observed word counts\n",
    "    mdw_df[character] = dtm_df.loc[character]\n",
    "\n",
    "    if group == False:\n",
    "        # Add a column for the total counts of each word in the play\n",
    "        mdw_df['WORD_TOTAL'] = dtm_df.sum()\n",
    "    else:\n",
    "        # Add a column for the total counts of each word for the characters in the defined group\n",
    "        mdw_df['WORD_TOTAL'] = dtm_df.loc[group].sum()\n",
    "\n",
    "    # Calculate Antigone's share of the total dialogue\n",
    "    char_space = sum(mdw_df[character])/float(sum(mdw_df['WORD_TOTAL']))\n",
    "\n",
    "    # Add a new column in which we calculate an \"expected\" number of times\n",
    "    # Antigone would utter each word, based on its overall use in the play\n",
    "    # and her share of the dialogue.\n",
    "\n",
    "    mdw_df[character + '_EXPECTED'] = mdw_df['WORD_TOTAL']*char_space\n",
    "\n",
    "    # How much more/less frequently does Antigone use the word than expected?\n",
    "    mdw_df['OBS-EXP_RATIO'] = mdw_df[character]/(mdw_df[character + '_EXPECTED'])\n",
    "    \n",
    "    # Sort the dataframe by the Observed/Expected Ratio to show \n",
    "    # Antigone's 20 \"Most Distinctive Words\"\n",
    "    return mdw_df[(mdw_df['OBS-EXP_RATIO']>1)&(mdw_df['WORD_TOTAL']>5)].sort_values('OBS-EXP_RATIO', ascending=False).head(20)"
   ]
  },
  {
   "cell_type": "code",
   "execution_count": null,
   "metadata": {
    "collapsed": false,
    "scrolled": true
   },
   "outputs": [],
   "source": [
    "get_mdw(dialogue_dict_antigone, 'ANTIGONE')"
   ]
  },
  {
   "cell_type": "code",
   "execution_count": null,
   "metadata": {
    "collapsed": false
   },
   "outputs": [],
   "source": [
    "get_mdw(dialogue_dict_antigone, 'CREON')"
   ]
  },
  {
   "cell_type": "markdown",
   "metadata": {},
   "source": [
    "Here's what Moretti had as most distinctive words:"
   ]
  },
  {
   "cell_type": "markdown",
   "metadata": {},
   "source": [
    "<img src='img/mdw-nouns.png' width=\"66%\" height=\"66%\">\n",
    "<img src='img/mdw-verbs.png' width=\"66%\" height=\"66%\">"
   ]
  },
  {
   "cell_type": "markdown",
   "metadata": {},
   "source": [
    "But Moretti notes that these are Antigone's and Creon's most distinctive words as compared to the rest of the text (al the characters in the text). What we are interested in only the relationship between the two characters? We can look at the most distinctive words given the dialogue of only Antigone and Creon the same way, just leaving out the rest of the dialogue:"
   ]
  },
  {
   "cell_type": "code",
   "execution_count": null,
   "metadata": {
    "collapsed": false
   },
   "outputs": [],
   "source": [
    "get_mdw(dialogue_dict_antigone, 'ANTIGONE', group=['ANTIGONE', 'CREON'])"
   ]
  },
  {
   "cell_type": "code",
   "execution_count": null,
   "metadata": {
    "collapsed": false
   },
   "outputs": [],
   "source": [
    "get_mdw(dialogue_dict_antigone, 'CREON', group=['ANTIGONE', 'CREON'])"
   ]
  },
  {
   "cell_type": "markdown",
   "metadata": {},
   "source": [
    "Here's what Moretti had:"
   ]
  },
  {
   "cell_type": "markdown",
   "metadata": {},
   "source": [
    "<img src='img/mdw-2.png' width=\"66%\" height=\"66%\">"
   ]
  },
  {
   "cell_type": "markdown",
   "metadata": {},
   "source": [
    "## Challenge\n",
    "\n",
    "Experiment with looking at the most distinctive words for characters in the other plays we looked at (*Phèdre*, *Macbeth*, and Othello).\n",
    "\n",
    "***HINT***: You should only have to write one line per text!"
   ]
  },
  {
   "cell_type": "code",
   "execution_count": null,
   "metadata": {
    "collapsed": false
   },
   "outputs": [],
   "source": [
    "## YOUR CODE HERE\n"
   ]
  },
  {
   "cell_type": "markdown",
   "metadata": {},
   "source": [
    "What are each Phèdre, Macbeth, and Othello's most distinctive words? If you've read the text, does this confirm your opinion of it? Does it add anything new?"
   ]
  },
  {
   "cell_type": "code",
   "execution_count": null,
   "metadata": {
    "collapsed": true
   },
   "outputs": [],
   "source": []
  },
  {
   "cell_type": "markdown",
   "metadata": {},
   "source": [
    "---\n",
    "\n",
    "If you've already taken Data 8, or your Python text parsing skills are already advanced, try this one:\n",
    "\n",
    "I've placed two more text files in the data folder for the two remaining dramas Moretti plots: Friedrich Schiller's *Don Carlos* and Henrik Ibsen's *Ghosts*. Write some code to plot the character space!"
   ]
  },
  {
   "cell_type": "code",
   "execution_count": null,
   "metadata": {
    "collapsed": false
   },
   "outputs": [],
   "source": [
    "!ls data"
   ]
  },
  {
   "cell_type": "code",
   "execution_count": null,
   "metadata": {
    "collapsed": true
   },
   "outputs": [],
   "source": [
    "## YOUR CODE HERE\n"
   ]
  },
  {
   "cell_type": "code",
   "execution_count": null,
   "metadata": {
    "collapsed": false
   },
   "outputs": [],
   "source": [
    "plot_character_space(dialogue_dict_doncarlos)\n",
    "plot_character_space(dialogue_dict_ghosts)"
   ]
  },
  {
   "cell_type": "markdown",
   "metadata": {},
   "source": [
    "<img src='img/fig5.png' width=\"66%\" height=\"66%\">"
   ]
  },
  {
   "cell_type": "markdown",
   "metadata": {},
   "source": [
    "<img src='img/fig6.png' width=\"66%\" height=\"66%\">"
   ]
  }
 ],
 "metadata": {
  "anaconda-cloud": {},
  "kernelspec": {
   "display_name": "Python [default]",
   "language": "python",
   "name": "python3"
  },
  "language_info": {
   "codemirror_mode": {
    "name": "ipython",
    "version": 3
   },
   "file_extension": ".py",
   "mimetype": "text/x-python",
   "name": "python",
   "nbconvert_exporter": "python",
   "pygments_lexer": "ipython3",
   "version": "3.5.2"
  }
 },
 "nbformat": 4,
 "nbformat_minor": 0
}
